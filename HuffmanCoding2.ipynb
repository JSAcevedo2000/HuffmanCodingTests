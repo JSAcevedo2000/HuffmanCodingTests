{
 "cells": [
  {
   "cell_type": "code",
   "execution_count": 1,
   "metadata": {},
   "outputs": [],
   "source": [
    "import collections\n",
    "import heapq"
   ]
  },
  {
   "cell_type": "code",
   "execution_count": 2,
   "metadata": {},
   "outputs": [],
   "source": [
    "song = \"Empty spaces, what are we living for? Abandoned places, I guess we know the score, on and on Does anybody know what we are looking for? Another hero, another mindless crime Behind the curtain, in the pantomime Hold the line Does anybody want to take it anymore? The show must go on The show must go on, yeah Inside my heart is breaking My makeup may be flaking But my smile, still, stays on Whatever happens, I'll leave it all to chance Another heartache, another failed romance, on and on Does anybody know what we are living for? I guess I'm learning I must be warmer now I'll soon be turning, round the corner now Outside the dawn is breaking But inside in the dark I'm aching to be free The show must go on The show must go on Inside my heart is breaking My makeup may be flaking But my smile, still, stays on My soul is painted like the wings of butterflies Fairy tales of yesterday, grow but never die I can fly, my friends The show must go on The show must go on I'll face it with a grin I'm never giving in On with the show I'll top the bill I'll overkill I have to find the will to carry on On with the show Show Show must go on, go on, go on, go on, go on, go on, go on, go on\""
   ]
  },
  {
   "cell_type": "code",
   "execution_count": 3,
   "metadata": {},
   "outputs": [],
   "source": [
    "class TreeNode(object):\n",
    "    def __init__(self, val=None, count=1, left=None, right=None, code = \"\"):\n",
    "        self.count = count\n",
    "        self.val = val\n",
    "        self.left = left\n",
    "        self.right = right\n",
    "        self.code = code\n",
    "\n",
    "    def leaf(self):\n",
    "        return not (self.left or self.right)\n",
    "\n",
    "    def __lt__(self, other):\n",
    "        return self.count < other.count\n",
    "\n",
    "    def __add__(self, other):\n",
    "        self.code = 0\n",
    "        other.code = 1\n",
    "        return TreeNode(None, self.count + other.count, self, other)\n",
    "\n",
    "    def __repr__(self):\n",
    "        return \"TreeNode(%r, %r)\" % (self.val, self.count)"
   ]
  },
  {
   "cell_type": "code",
   "execution_count": 4,
   "metadata": {},
   "outputs": [],
   "source": [
    "def TreeGenerator(string):\n",
    "\n",
    "    counter = collections.Counter(string)\n",
    "    heap = [TreeNode(item, count) for item,count in counter.items()]\n",
    "\n",
    "    heapq.heapify(heap)\n",
    "    \n",
    "    while len(heap) >= 2:\n",
    "        heapq.heappush(heap, heapq.heappop(heap) + heapq.heappop(heap))\n",
    "\n",
    "    tree = heap[0]    \n",
    "    return TreeCodification(tree)"
   ]
  },
  {
   "cell_type": "code",
   "execution_count": 5,
   "metadata": {},
   "outputs": [],
   "source": [
    "def TreeCodification(node, pfix=[]):\n",
    "    \n",
    "    code = {}\n",
    "    if node:\n",
    "        pfix = pfix + [node.code]\n",
    "        if node.leaf():\n",
    "            code[node.val] = pfix\n",
    "        else:\n",
    "            code.update(TreeCodification(node.left, pfix))\n",
    "            code.update(TreeCodification(node.right, pfix))\n",
    "    return code"
   ]
  },
  {
   "cell_type": "code",
   "execution_count": 6,
   "metadata": {},
   "outputs": [],
   "source": [
    "def encrypt(string, code):\n",
    "    \n",
    "    crypted = []\n",
    "    for char in string:\n",
    "        crypted.extend(code[char])\n",
    "\n",
    "    return \"\".join(str(a) for a in crypted)"
   ]
  },
  {
   "cell_type": "code",
   "execution_count": 7,
   "metadata": {},
   "outputs": [],
   "source": [
    "def decrypt(string, code):\n",
    "    cstring = \"\"\n",
    "    decrypted = []\n",
    "    reversezip = dict(zip([\"\".join([str(a) for a in b]) for b in code.values()], code.keys()))\n",
    "\n",
    "    for c in string:\n",
    "        cstring += c\n",
    "        if cstring in reversezip:\n",
    "            decrypted.append(reversezip[cstring])\n",
    "            cstring = \"\"\n",
    "    return \"\".join(decrypted)"
   ]
  },
  {
   "cell_type": "code",
   "execution_count": 8,
   "metadata": {},
   "outputs": [
    {
     "name": "stdout",
     "output_type": "stream",
     "text": [
      "Text length: 9488 \n",
      "Huffman encrypted text length: 5171 \n",
      " \n",
      "Original text:\n",
      " Empty spaces, what are we living for? Abandoned places, I guess we know the score, on and on Does anybody know what we are looking for? Another hero, another mindless crime Behind the curtain, in the pantomime Hold the line Does anybody want to take it anymore? The show must go on The show must go on, yeah Inside my heart is breaking My makeup may be flaking But my smile, still, stays on Whatever happens, I'll leave it all to chance Another heartache, another failed romance, on and on Does anybody know what we are living for? I guess I'm learning I must be warmer now I'll soon be turning, round the corner now Outside the dawn is breaking But inside in the dark I'm aching to be free The show must go on The show must go on Inside my heart is breaking My makeup may be flaking But my smile, still, stays on My soul is painted like the wings of butterflies Fairy tales of yesterday, grow but never die I can fly, my friends The show must go on The show must go on I'll face it with a grin I'm never giving in On with the show I'll top the bill I'll overkill I have to find the will to carry on On with the show Show Show must go on, go on, go on, go on, go on, go on, go on, go on\n",
      " \n",
      "Encrypted text:\n"
     ]
    },
    {
     "data": {
      "text/plain": [
       "'10000111110110010100010111111001001111010100010100010101110111110110011000110111101010001110001001100011010001101110100101011111110100001111110011000100010100101111000100001100011100001010000001001001110010101110011101110010001010001101010100010101110111110110011000101110010001101001110111110111100001101110100010110100110110110100011111101110100111100101011011110001101110011001011100100010010011100100010111001001110000011011110111110000100100111100110000010111100101110010001011010011011011010001101111010100011100011011101000100110001101001010110111011010110111111001100010001010010111100010000110001110000101001101101111110111011100000111011101110001011110011000100100110110111111011101110000001100111111001110010101011101111101111000010101110001111101100110100111000111110111101111111001110010000111111011101000101011010011100001110100111111001110011001111110010001111110111010010100010100100101111011011001111101100110100100001111010111010111001000011111101110100101011111110011101001110000011011110111110000100100111100110000010111100101110010001101010010010111000111101100011101000101101101001111101110001001001111001011001011110001101100001100011100010111011101001111011101101101101000110010100111110011100100011011001011100100111000101110111010011110111011011011010001100101001111100111001000110110010111001110011001110011101010011101000101111001111101111111001011010001100111001001110111010100110000111001111111110001000001100011010100010110111111001100010011100011011100100011000100010110110110100110100010001100010011100100100000110100010100101010100010110111111001100010011100011110100101110001100111001001111001100111111010111011100110011110011111111101011010111001100111100111010011100111110001011100100111000000111101010001111101101000011011100000111010100101000110100011101100111110110011000101111000010101011010100101011101010010100001101001111101110001001010110101000111101100010101111010100100101010111010011100001010011011011111101110111000001110111010100110000111010001010111101110111001100010010011011011111101110111000000101000100111111010111011100100011000101101100010010010101011101110011001011100100010010011100100010111001001110000011011110111110000100100111100110000010111100101110010001011010011011011010001101111010100011100011011101000100110001101001010111111101000011111100110001000101001011110001000011000010111001000110100111011111011110000101111000010011000010101110101001100010011111110011000100010111000110010100111110011100100000110100011010100110000110011011100000100110110110100010111100001010101101010011110101110111001001000001101000111101001110001001111111001100011100110011000101110100110011100100001111110111010001010110111100010011101110000010011011011010011100001110100101111111011111110010110100011111101110100110010010001101100100111111111000100000110001101010001011011111100110001001110001111010010111001111110011111011111110010110100111111001000111111011101001100100100110000101100001011110000100110000010001010111101111111001100010001111011001000001101000101001100011011101001110001011101110100111101110110110110100011001010011111001110010001101100101110010011100010111011101001111011101101101101000110010100111110011100100011011001011100100010111100111110111111100101101000110011100100111011101010011000011100111111111000100000110001101010001011011111100110001001110001101110010001100010001011011011010011010001000110001001110010010000011010001010010101010001011011111100110001001110001111010010111000110011100100111100110011111101011101110011001111001111111110101101011100110011110011101001110011111000101110010011100011011100100111101011101001101010011111111100010100010100111111001011111011100100010101111110101101101000111111011101000110111111100110001111100010110101000010000010100101110111110111000010100101011111111011111000111000000001001111111000111001000111010010101110111110001011010100001110011101111100111110111000110010010011100111001100100011100010110110100100000101001011100100111011010000110111000001100101111111010001011100010101010010010001010010101111001110011000110011100100010100110001111111011001110010111100011100010111011101001111011101101101101000110010100111110011100100011011001011100100111000101110111010011110111011011011010001100101001111100111001000110110010111001000101111000010101011010100010100010001010111010011111011100011011111101111110100010000100011100011111100100010111100001001100001001110110100001101110000010001111111010000111111001100010011111100100111000011100100011011111101111110100011111101110100111101110110110110100010111100001010101101010001111011101000100011111101110100100000111111010110101000101111000010101011010100101110100001101110000101101111110101101010001011100111010100101000011010001111011000101001111110011100100001111110111010001101111111010110101000111101100010101010011000110001110010010111001001110000111001000110111111011111101000111111011101001111011101101101101001000011101110110110110100100001110111011011011010001100101001111100111001000110110010111001110011001000110110010111001110011001000110110010111001110011001000110110010111001110011001000110110010111001110011001000110110010111001110011001000110110010111001110011001000110110010111001'"
      ]
     },
     "execution_count": 8,
     "metadata": {},
     "output_type": "execute_result"
    }
   ],
   "source": [
    "def main(string):\n",
    "\n",
    "    code = TreeGenerator(string)\n",
    "    crypted_text = encrypt(string, code)\n",
    "    decrypted_text = decrypt(crypted_text, code)\n",
    "    \n",
    "    ans = (len(string) * 8, len(crypted_text))\n",
    "    print(\"Text length: %d \\nHuffman encrypted text length: %d \" % ans)\n",
    "    print(\" \")\n",
    "    print(\"Original text:\\n\", song)\n",
    "    print(\" \")\n",
    "    print(\"Encrypted text:\")\n",
    "    return crypted_text\n",
    "\n",
    "main(song)"
   ]
  },
  {
   "cell_type": "code",
   "execution_count": null,
   "metadata": {},
   "outputs": [],
   "source": []
  }
 ],
 "metadata": {
  "kernelspec": {
   "display_name": "Python 3",
   "language": "python",
   "name": "python3"
  },
  "language_info": {
   "codemirror_mode": {
    "name": "ipython",
    "version": 3
   },
   "file_extension": ".py",
   "mimetype": "text/x-python",
   "name": "python",
   "nbconvert_exporter": "python",
   "pygments_lexer": "ipython3",
   "version": "3.7.4"
  }
 },
 "nbformat": 4,
 "nbformat_minor": 4
}
